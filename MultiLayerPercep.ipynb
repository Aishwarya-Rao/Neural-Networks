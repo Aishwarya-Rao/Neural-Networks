{
 "cells": [
  {
   "cell_type": "code",
   "execution_count": 2,
   "metadata": {},
   "outputs": [],
   "source": [
    "import numpy as np\n",
    "from matplotlib import pyplot as plt"
   ]
  },
  {
   "cell_type": "code",
   "execution_count": 3,
   "metadata": {},
   "outputs": [],
   "source": [
    "def sigmoid(self, x): # sigmoid function used at the hidden layer and output layer\n",
    "        return 1 / (1 + np.exp(-x))"
   ]
  },
  {
   "cell_type": "code",
   "execution_count": null,
   "metadata": {},
   "outputs": [],
   "source": [
    "def sigmoid_derivative(self, x): # sigmoid derivative used for backpropgation \n",
    "        return self.sigmoid(x) * (1 - self.sigmoid(x))\n"
   ]
  },
  {
   "cell_type": "code",
   "execution_count": null,
   "metadata": {},
   "outputs": [],
   "source": [
    "def forward_propagation(self):#define function to feedforward the network \n",
    "        self.weight_matrix_1 = np.random.randn(self.input_layer, self.hidden_layer) #weight attribute connecting to the hidden layer\n",
    "        self.weight_matrix_2 = np.random.randn(self.hidden_layer, self.output_layer)#weight attribute connecting to the output layer\n",
    "        z = np.dot(self.x, self.weight_matrix_1) #linear transformation to the hidden layer\n",
    "        activation_func = self.sigmoid(z)#hidden layer activation function\n",
    "        zh = np.dot(activation_func, self.weight_matrix_2)#linear transformation to the output layer\n",
    "        p_hat = self.sigmoid(zh)#output layer prediction \n",
    "        return z, activation_func, zh, p_hat"
   ]
  },
  {
   "cell_type": "code",
   "execution_count": null,
   "metadata": {},
   "outputs": [],
   "source": [
    "def BCECost(self, y, p_hat): # binary cross entropy cost function\n",
    "        bce_cost = -(np.sum(y * np.log(p_hat) + (1 - y) * np.log(1 - p_hat))) / len(y)\n",
    "        return bce_cost"
   ]
  },
  {
   "cell_type": "code",
   "execution_count": null,
   "metadata": {},
   "outputs": [],
   "source": [
    "def backword_prop(self, z_1, activation_func, z_2, p_hat,Y): #backpropagation\n",
    "        del_2_1 = p_hat - Y\n",
    "        partial_deriv_2 = np.dot(activation_func.T, del_2_1) #∂loss/∂p *∂p/∂zh * ∂zh/∂wh\n",
    "        del_1_1 = del_2_1 \n",
    "        del_1_2 = np.multiply(del_1_1, self.weight_matrix_2.T) \n",
    "        del_1_3 = np.multiply(del_1_2, self.sigmoid_derivative(z_1))\n",
    "        partial_deriv_1 = np.dot(self.design_matrix.T, del_1_3) #∂loss/∂p * ∂p/∂zh * ∂zh/∂h * ∂h/∂z * ∂z/∂w\n",
    "        return partial_deriv_2, partial_deriv_1"
   ]
  },
  {
   "cell_type": "code",
   "execution_count": null,
   "metadata": {},
   "outputs": [],
   "source": [
    "def train(self):#train the network\n",
    "        for i in range(self.iterations): #loop based on number of iterations\n",
    "            z_1, activation_func, z_2, p_hat = self.forward_propagation()# feedforward\n",
    "            partial_deriv_2, partial_deriv_1 = self.backword_prop(z_1, activation_func, z_2, p_hat,Y)#backpropgate\n",
    "            self.weight_matrix_1 = self.weight_matrix_1 - self.lr * partial_deriv_1#update weights connecting to the hidden layer (gradient descent)\n",
    "            self.weight_matrix_2 = self.weight_matrix_2 - self.lr * partial_deriv_2#update weights connecting to the output layer (gradient descent )\n",
    "            self.cost.append(self.BCECost(Y, p_hat))#store BCE cost in list\n",
    "            self.p_hats.append(p_hat)#store predictions in list\n",
    "        print('Training Complete')\n",
    "        print('----------------------------------------------------------------------------')"
   ]
  },
  {
   "cell_type": "code",
   "execution_count": null,
   "metadata": {},
   "outputs": [],
   "source": [
    "# Prepare the XOR Logic Gate data: create an array for each training example x feature, and an array for each corrosponding y label.\n",
    "X = np.array([[1, 0], [0, 1], [0, 0], [1, 1]]) #input features (4 x 2 design matrix)\n",
    "Y = np.array([[1], [1], [0], [0]])#ground truth y labels (4x1)\n",
    "\n",
    "mlp = MLP(X,Y)#Pass data to the model (design matrix and y label)\n",
    "mlp.train() #Train the model"
   ]
  },
  {
   "cell_type": "code",
   "execution_count": null,
   "metadata": {},
   "outputs": [],
   "source": []
  }
 ],
 "metadata": {
  "kernelspec": {
   "display_name": "Python 3",
   "language": "python",
   "name": "python3"
  },
  "language_info": {
   "codemirror_mode": {
    "name": "ipython",
    "version": 3
   },
   "file_extension": ".py",
   "mimetype": "text/x-python",
   "name": "python",
   "nbconvert_exporter": "python",
   "pygments_lexer": "ipython3",
   "version": "3.11.0"
  }
 },
 "nbformat": 4,
 "nbformat_minor": 2
}
